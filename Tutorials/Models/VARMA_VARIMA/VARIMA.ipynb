{
 "cells": [
  {
   "cell_type": "code",
   "execution_count": null,
   "id": "620e52dc",
   "metadata": {},
   "outputs": [
    {
     "ename": "",
     "evalue": "",
     "output_type": "error",
     "traceback": [
      "\u001b[1;31mFailed to start the Kernel. \n",
      "\u001b[1;31mUnable to start Kernel 'Python 3.10.2' due to a timeout waiting for the ports to get used. \n",
      "\u001b[1;31mView Jupyter <a href='command:jupyter.viewOutput'>log</a> for further details."
     ]
    }
   ],
   "source": [
    "from econometron.Models.VectorAutoReg.VARIMA import VARIMA\n",
    "import pandas as pd\n",
    "import numpy as np\n",
    "import matplotlib.pyplot as plt\n",
    "from econometron.utils.data_preparation import TransformTS"
   ]
  },
  {
   "cell_type": "code",
   "execution_count": null,
   "id": "0ba1105f",
   "metadata": {},
   "outputs": [
    {
     "ename": "",
     "evalue": "",
     "output_type": "error",
     "traceback": [
      "\u001b[1;31mFailed to start the Kernel. \n",
      "\u001b[1;31mUnable to start Kernel 'Python 3.10.2' due to a timeout waiting for the ports to get used. \n",
      "\u001b[1;31mView Jupyter <a href='command:jupyter.viewOutput'>log</a> for further details."
     ]
    }
   ],
   "source": [
    "GDP=pd.read_csv(\"../../Data_Fred/gdp.csv\", index_col=0, parse_dates=True)\n",
    "Inflation=pd.read_csv(\"../../Data_Fred/inflation.csv\", index_col=0, parse_dates=True)\n",
    "Interest_Rate=pd.read_csv(\"../../Data_Fred/int_rate.csv\", index_col=0, parse_dates=True)\n",
    "mac_data=pd.concat([GDP, Inflation, Interest_Rate], axis=1).dropna()"
   ]
  },
  {
   "cell_type": "code",
   "execution_count": 3,
   "id": "159be2c9",
   "metadata": {},
   "outputs": [
    {
     "name": "stdout",
     "output_type": "stream",
     "text": [
      "\n",
      "=== Time Series Analysis ===\n",
      "\n",
      "Stationarity Check (ADF Test):\n",
      "Column GDP: Stationary, p-value: 0.0000, ADF Statistic: -4.9856\n",
      "Column DPCCRV1Q225SBEA: Stationary, p-value: 0.0276, ADF Statistic: -3.0857\n",
      "Column DFF: Stationary, p-value: 0.0000, ADF Statistic: -5.6126\n",
      "\n",
      "Summary Statistics:\n",
      "               GDP  DPCCRV1Q225SBEA         DFF\n",
      "count   140.000000     1.410000e+02  140.000000\n",
      "mean    172.066757     2.834612e-16   -0.026000\n",
      "std     261.390203     1.116470e+00    0.719533\n",
      "min   -1792.213000    -2.962411e+00   -2.720000\n",
      "25%      96.405500    -6.624113e-01   -0.170000\n",
      "50%     151.305500    -2.624113e-01    0.000000\n",
      "75%     222.718000     4.375887e-01    0.242500\n",
      "max    1749.107000     3.937589e+00    2.270000\n",
      "\n",
      "NaN Counts:\n",
      "GDP                1\n",
      "DPCCRV1Q225SBEA    0\n",
      "DFF                1\n",
      "dtype: int64\n",
      "\n",
      "Correlation Matrix:\n",
      "                      GDP  DPCCRV1Q225SBEA       DFF\n",
      "GDP              1.000000         0.500033  0.261576\n",
      "DPCCRV1Q225SBEA  0.500033         1.000000  0.169277\n",
      "DFF              0.261576         0.169277  1.000000\n",
      "Performing stationarity checks...\n",
      "\n",
      "Column: GDP\n",
      "Verdict , The serie : GDP is stationary\n",
      "\n",
      "Column: DPCCRV1Q225SBEA\n",
      "Verdict , The serie : DPCCRV1Q225SBEA is stationary\n",
      "\n",
      "Column: DFF\n",
      "Verdict , The serie : DFF is stationary\n"
     ]
    },
    {
     "name": "stderr",
     "output_type": "stream",
     "text": [
      "C:\\Users\\ASUS\\econometron\\econometron\\Models\\VectorAutoReg\\VAR.py:124: InterpolationWarning: The test statistic is outside of the range of p-values available in the\n",
      "look-up table. The actual p-value is smaller than the p-value returned.\n",
      "\n",
      "  results=kpss(series.dropna(),regression='c', nlags='auto')\n",
      "C:\\Users\\ASUS\\econometron\\econometron\\Models\\VectorAutoReg\\VAR.py:124: InterpolationWarning: The test statistic is outside of the range of p-values available in the\n",
      "look-up table. The actual p-value is greater than the p-value returned.\n",
      "\n",
      "  results=kpss(series.dropna(),regression='c', nlags='auto')\n",
      "C:\\Users\\ASUS\\econometron\\econometron\\Models\\VectorAutoReg\\VAR.py:124: InterpolationWarning: The test statistic is outside of the range of p-values available in the\n",
      "look-up table. The actual p-value is greater than the p-value returned.\n",
      "\n",
      "  results=kpss(series.dropna(),regression='c', nlags='auto')\n"
     ]
    }
   ],
   "source": [
    "Varima=VARIMA(mac_data,max_p=4,max_q=4,max_d=4)"
   ]
  },
  {
   "cell_type": "code",
   "execution_count": null,
   "id": "ffecac3b",
   "metadata": {},
   "outputs": [
    {
     "ename": "",
     "evalue": "",
     "output_type": "error",
     "traceback": [
      "\u001b[1;31mFailed to start the Kernel. \n",
      "\u001b[1;31mUnable to start Kernel 'Python 3.10.2' due to a timeout waiting for the ports to get used. \n",
      "\u001b[1;31mView Jupyter <a href='command:jupyter.viewOutput'>log</a> for further details."
     ]
    }
   ],
   "source": [
    "Varima.fit(p=1,q=0verbose=True)"
   ]
  }
 ],
 "metadata": {
  "kernelspec": {
   "display_name": "Python 3",
   "language": "python",
   "name": "python3"
  },
  "language_info": {
   "codemirror_mode": {
    "name": "ipython",
    "version": 3
   },
   "file_extension": ".py",
   "mimetype": "text/x-python",
   "name": "python",
   "nbconvert_exporter": "python",
   "pygments_lexer": "ipython3",
   "version": "3.10.2"
  }
 },
 "nbformat": 4,
 "nbformat_minor": 5
}
