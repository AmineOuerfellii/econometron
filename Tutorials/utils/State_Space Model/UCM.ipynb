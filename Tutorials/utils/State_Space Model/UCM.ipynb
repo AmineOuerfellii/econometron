{
 "cells": [
  {
   "cell_type": "code",
   "execution_count": 5,
   "id": "2ab03817",
   "metadata": {},
   "outputs": [],
   "source": [
    "from econometron.utils.state_space.update_ss import make_state_space_updater\n",
    "from econometron.filters import kalman_objective\n",
    "import numpy as np"
   ]
  },
  {
   "cell_type": "code",
   "execution_count": 9,
   "id": "ecb4036e",
   "metadata": {},
   "outputs": [],
   "source": [
    "def ucm_solver(params: dict) -> tuple:\n",
    "    F = np.array([[1.0, 0.0]])\n",
    "    P = np.array([\n",
    "        [1.0, 1.0],\n",
    "        [0.0, 1.0]\n",
    "    ])\n",
    "    return F, P\n",
    "\n",
    "def ucm_build_R(params: dict) -> np.ndarray:\n",
    "    sigma_irregular = params.get('sigma_irregular', 1.0)\n",
    "    return np.array([[sigma_irregular]])\n",
    "\n",
    "def ucm_build_C(params: dict) -> np.ndarray:\n",
    "    sigma_level = params.get('sigma_level', 1.0)\n",
    "    sigma_slope = params.get('sigma_slope', 1.0)\n",
    "    return np.array([\n",
    "        [sigma_level, 0.0],\n",
    "        [0.0, sigma_slope]\n",
    "    ])\n",
    "\n",
    "def ucm_derived_fn(params: dict):\n",
    "    for key in ['sigma_irregular', 'sigma_level', 'sigma_slope']:\n",
    "        if key in params:\n",
    "            params[key] = max(params[key], 1e-6)\n",
    "\n",
    "ucm_base_params = {\n",
    "    'sigma_irregular': 1.0,\n",
    "    'sigma_level': 1.0,\n",
    "    'sigma_slope': 1.0\n",
    "}\n",
    "\n",
    "ucm_state_space_updater = make_state_space_updater(\n",
    "    base_params=ucm_base_params,\n",
    "    solver=ucm_solver,\n",
    "    build_R=ucm_build_R,\n",
    "    build_C=ucm_build_C,\n",
    "    derived_fn=ucm_derived_fn\n",
    ")"
   ]
  },
  {
   "cell_type": "code",
   "execution_count": 10,
   "id": "98dd1322",
   "metadata": {},
   "outputs": [],
   "source": [
    "params_update = {\n",
    "        'sigma_irregular': 0.5,\n",
    "        'sigma_level': 1.2,\n",
    "        'sigma_slope': 0.3\n",
    "    }\n",
    "UCM=ucm_state_space_updater(params_update)"
   ]
  },
  {
   "cell_type": "code",
   "execution_count": 11,
   "id": "518450b2",
   "metadata": {},
   "outputs": [
    {
     "data": {
      "text/plain": [
       "{'A': array([[1., 1.],\n",
       "        [0., 1.]]),\n",
       " 'D': array([[1., 0.]]),\n",
       " 'Q': array([[1.44, 0.  ],\n",
       "        [0.  , 0.09]]),\n",
       " 'R': array([[0.25]])}"
      ]
     },
     "execution_count": 11,
     "metadata": {},
     "output_type": "execute_result"
    }
   ],
   "source": [
    "UCM"
   ]
  },
  {
   "cell_type": "code",
   "execution_count": null,
   "id": "f7eb3f23",
   "metadata": {},
   "outputs": [],
   "source": []
  }
 ],
 "metadata": {
  "kernelspec": {
   "display_name": "Python 3",
   "language": "python",
   "name": "python3"
  },
  "language_info": {
   "codemirror_mode": {
    "name": "ipython",
    "version": 3
   },
   "file_extension": ".py",
   "mimetype": "text/x-python",
   "name": "python",
   "nbconvert_exporter": "python",
   "pygments_lexer": "ipython3",
   "version": "3.10.2"
  }
 },
 "nbformat": 4,
 "nbformat_minor": 5
}
