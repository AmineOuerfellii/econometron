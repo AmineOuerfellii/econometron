{
 "cells": [
  {
   "cell_type": "markdown",
   "id": "2ef3aeda",
   "metadata": {},
   "source": [
    "# VARIMA Time Series Modeling Example\n",
    "\n",
    "This notebook demonstrates how to use the `VARIMA` class from the Econometron package to fit and forecast a multivariate macroeconomic time series using the data in `Z.mat`."
   ]
  },
  {
   "cell_type": "code",
   "execution_count": null,
   "id": "e55e3df3",
   "metadata": {},
   "outputs": [],
   "source": [
    "from econometron.Models.varima import VARIMA\n",
    "import pandas as pd\n",
    "import scipy.io as sio"
   ]
  },
  {
   "cell_type": "markdown",
   "id": "6a07edf0",
   "metadata": {},
   "source": [
    "## 1. Load and Prepare Data\n",
    "Load the macroeconomic data from `Z.mat` and organize it as a DataFrame with a quarterly date index."
   ]
  },
  {
   "cell_type": "code",
   "execution_count": null,
   "id": "c10c4b3f",
   "metadata": {},
   "outputs": [],
   "source": [
    "mat = sio.loadmat('../Z.mat')\n",
    "y = mat['Z']\n",
    "data = pd.DataFrame(y.T)\n",
    "dates = pd.date_range(start='2000-01-01', periods=data.shape[0], freq='Q')\n",
    "data.index = dates\n",
    "data.head()"
   ]
  },
  {
   "cell_type": "markdown",
   "id": "ac503b6f",
   "metadata": {},
   "source": [
    "## 2. Fit the VARIMA Model\n",
    "Fit a VARIMA model to the first three columns of the data, using automatic order selection (AIC criterion)."
   ]
  },
  {
   "cell_type": "code",
   "execution_count": null,
   "id": "becf63cb",
   "metadata": {},
   "outputs": [],
   "source": [
    "varima_model = VARIMA(max_p=2, max_q=2, criterion='AIC', forecast_horizon=5, plot=True)\n",
    "varima_model.fit(data, date_column='', columns=[0, 1, 2])"
   ]
  },
  {
   "cell_type": "markdown",
   "id": "eccffb09",
   "metadata": {},
   "source": [
    "## 3. Forecast and Visualize\n",
    "Forecast the next 5 periods and display the results."
   ]
  },
  {
   "cell_type": "code",
   "execution_count": null,
   "id": "049327be",
   "metadata": {},
   "outputs": [],
   "source": [
    "forecast = varima_model.forecast(5)\n",
    "print(\"Forecasted values:\")\n",
    "print(forecast)"
   ]
  },
  {
   "cell_type": "markdown",
   "id": "0471c6e9",
   "metadata": {},
   "source": [
    "## 4. Summary\n",
    "- Loaded macroeconomic data from `Z.mat`.\n",
    "- Fitted a VARIMA model with automatic order selection.\n",
    "- Forecasted future values and displayed the results.\n",
    "\n",
    "You can adjust the `max_p`, `max_q`, and `columns` parameters for different model specifications or datasets."
   ]
  },
  {
   "cell_type": "markdown",
   "id": "13ab0997",
   "metadata": {},
   "source": [
    "## 5. Diagnostics and Visualization\n",
    "You can visualize the model fit, residuals, and diagnostics using built-in plotting methods."
   ]
  },
  {
   "cell_type": "code",
   "execution_count": null,
   "id": "538384fa",
   "metadata": {},
   "outputs": [],
   "source": [
    "# Plot the forecast\n",
    "varima_model.plot_forecast()\n",
    "\n",
    "# Plot residuals\n",
    "varima_model.plot_residuals()\n",
    "\n",
    "# Plot diagnostics (e.g., ACF, PACF, QQ-plot)\n",
    "varima_model.plot_diagnostics()"
   ]
  }
 ],
 "metadata": {
  "kernelspec": {
   "display_name": "Python 3",
   "language": "python",
   "name": "python3"
  },
  "language_info": {
   "codemirror_mode": {
    "name": "ipython",
    "version": 3
   },
   "file_extension": ".py",
   "mimetype": "text/x-python",
   "name": "python",
   "nbconvert_exporter": "python",
   "pygments_lexer": "ipython3",
   "version": "3.10.2"
  }
 },
 "nbformat": 4,
 "nbformat_minor": 5
}
