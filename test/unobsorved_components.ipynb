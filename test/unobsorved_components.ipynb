{
 "cells": [
  {
   "cell_type": "markdown",
   "metadata": {},
   "source": [
    "# 🔍 Unobserved Components Model with State Space & Kalman Filtering\n",
    "\n",
    "This notebook demonstrates how to build and estimate an unobserved components model using Econometron's state space utilities, simulated annealing for parameter estimation, and the Kalman filter/smoother. We use the first row of `Z.mat` as the observed series."
   ]
  },
  {
   "cell_type": "markdown",
   "metadata": {},
   "source": [
    "## 1️⃣ Introduction\n",
    "\n",
    "Unobserved components models decompose a time series into latent (hidden) components such as trend and cycle. State space methods and the Kalman filter are ideal for estimation and inference in such models."
   ]
  },
  {
   "cell_type": "code",
   "metadata": {},
   "source": [
    "import numpy as np\n",
    "import scipy.io\n",
    "import matplotlib.pyplot as plt\n",
    "from econometron.utils.state_space.update_ss import make_state_space_updater\n",
    "from econometron.utils.optimizers.simulated_annealing import simulated_annealing\n",
    "from econometron.utils.filters.kalman import kalman_filter, kalman_smoother"
   ],
   "execution_count": null,
   "outputs": []
  },
  {
   "cell_type": "markdown",
   "metadata": {},
   "source": [
    "## 2️⃣ Load Data\n",
    "\n",
    "We use the first row of `Z.mat` (e.g., interest rate series)."
   ]
  },
  {
   "cell_type": "code",
   "metadata": {},
   "source": [
    "# Load data\n",
    "Z = scipy.io.loadmat('Z.mat')[\"Z\"]\n",
    "y = Z[0, :]\n",
    "plt.plot(y)\n",
    "plt.title('Observed Series (row 0 of Z)')\n",
    "plt.show()"
   ],
   "execution_count": null,
   "outputs": []
  },
  {
   "cell_type": "markdown",
   "metadata": {},
   "source": [
    "## 3️⃣ Define State Space Model\n",
    "\n",
    "We use a local level model as an example:\n",
    "$$\n",
    "y_t = \\\\mu_t + \\\\epsilon_t \\\\\n",
    "\\\\mu_{t+1} = \\\\mu_t + \\\\eta_t\n",
    "$$\n",
    "where $\\\\epsilon_t \\sim N(0, R)$ and $\\\\eta_t \\sim N(0, Q)$.\n",
    "\n",
    "The solver returns matrices $A$ and $B$ for the state transition and observation equations."
   ]
  },
  {
   "cell_type": "code",
   "metadata": {},
   "source": [
    "# State space builder and solver\n",
    "def solver(params):\n",
    "    # params: [Q, R]\n",
    "    Q, R = params\n",
    "    # State transition: mu_{t+1} = mu_t + eta_t\n",
    "    A = np.array([[1]])\n",
    "    B = np.array([[1]])\n",
    "    return A, B, Q, R\n",
    "\n",
    "def build_R(params):\n",
    "    return np.array([[params[1]]])\n",
    "\n",
    "def build_C(params):\n",
    "    return np.array([[params[0]]])\n",
    "\n",
    "# Initial parameters\n",
    "base_params = {'Q': 1.0, 'R': 1.0}\n",
    "\n",
    "# State space updater\n",
    "ss_updater = make_state_space_updater(\n",
    "    base_params=base_params,\n",
    "    solver=solver,\n",
    "    build_R=build_R,\n",
    "    build_C=build_C\n",
    ")"
   ],
   "execution_count": null,
   "outputs": []
  },
  {
   "cell_type": "markdown",
   "metadata": {},
   "source": [
    "## 4️⃣ Estimate Parameters (Simulated Annealing + Kalman Filter)\n",
    "\n",
    "We estimate Q and R by maximizing the likelihood via simulated annealing."
   ]
  },
  {
   "cell_type": "code",
   "metadata": {},
   "source": [
    "def neg_log_likelihood(params):\n",
    "    A, B, Q, R = solver(params)\n",
    "    # Build state space matrices\n",
    "    n = len(y)\n",
    "    x0 = np.array([y[0]])\n",
    "    P0 = np.eye(1)\n",
    "    Qm = np.array([[Q]])\n",
    "    Rm = np.array([[R]])\n",
    "    _, ll = kalman_filter(y, A, B, Qm, Rm, x0, P0, return_loglik=True)\n",
    "    return -ll\n",
    "\n",
    "# Simulated annealing to estimate Q, R\n",
    "bounds = [(1e-5, 10.0), (1e-5, 10.0)]\n",
    "best_params, best_ll = simulated_annealing(neg_log_likelihood, x0=[1.0, 1.0], bounds=bounds, maxiter=100)\n",
    "print('Estimated Q, R:', best_params)"
   ],
   "execution_count": null,
   "outputs": []
  },
  {
   "cell_type": "markdown",
   "metadata": {},
   "source": [
    "## 5️⃣ Kalman Smoother and Plot\n",
    "\n",
    "After estimation, use the Kalman smoother to extract the smoothed state (trend) and plot it."
   ]
  },
  {
   "cell_type": "code",
   "metadata": {},
   "source": [
    "# Build final state space with estimated params\n",
    "A, B, Q, R = solver(best_params)\n",
    "Qm = np.array([[Q]])\n",
    "Rm = np.array([[R]])\n",
    "x0 = np.array([y[0]])\n",
    "P0 = np.eye(1)\n",
    "\n",
    "# Run Kalman filter and smoother\n",
    "filtered, _ = kalman_filter(y, A, B, Qm, Rm, x0, P0)\n",
    "smoothed = kalman_smoother(y, A, B, Qm, Rm, x0, P0)\n",
    "\n",
    "# Plot\n",
    "plt.figure(figsize=(12, 5))\n",
    "plt.plot(y, label='Observed')\n",
    "plt.plot(smoothed[:, 0], label='Smoothed Trend', linewidth=2)\n",
    "plt.title('Unobserved Components Model: Smoothed Trend')\n",
    "plt.legend()\n",
    "plt.show()"
   ],
   "execution_count": null,
   "outputs": []
  },
  {
   "cell_type": "markdown",
   "metadata": {},
   "source": [
    "## 6️⃣ Conclusion\n",
    "\n",
    "- We built an unobserved components model using Econometron's state space utilities.\n",
    "- Parameters were estimated using simulated annealing and the Kalman filter.\n",
    "- The Kalman smoother provided a clean estimate of the underlying trend.\n",
    "\n",
    "This workflow can be extended to more complex state space models and real-world macroeconomic data."
   ]
  }
 ],
 "metadata": {
  "kernelspec": {
   "display_name": "Python 3",
   "language": "python",
   "name": "python3"
  },
  "language_info": {
   "name": "python"
  }
 },
 "nbformat": 4,
 "nbformat_minor": 2
}